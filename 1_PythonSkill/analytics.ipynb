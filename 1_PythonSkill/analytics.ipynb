{
 "cells": [
  {
   "cell_type": "markdown",
   "metadata": {},
   "source": [
    "### Python Program to Retrieve Universities Data based on input Country Name"
   ]
  },
  {
   "cell_type": "code",
   "execution_count": 1,
   "metadata": {},
   "outputs": [],
   "source": [
    "from get_universities_data import pipeline_universities"
   ]
  },
  {
   "cell_type": "code",
   "execution_count": 2,
   "metadata": {},
   "outputs": [],
   "source": [
    "# list southeast asia countries\n",
    "southeast_asia_countries = [\"Brunei Darussalam\", \"Indonesia\", \"Cambodia\", \"Laos\", \"Malaysia\", \"Myanmar\", \"Philippines\", \"Singapore\", \"Thailand\", \"Vietnam\"]"
   ]
  },
  {
   "cell_type": "code",
   "execution_count": 3,
   "metadata": {},
   "outputs": [
    {
     "name": "stdout",
     "output_type": "stream",
     "text": [
      "INFO >> 1 - get universities data from 'Brunei Darussalam' (3)\n",
      "INFO >> 2 - get universities data from 'Indonesia' (192)\n",
      "INFO >> 3 - get universities data from 'Cambodia' (21)\n",
      "INFO >> 4 - get universities data from 'Laos' (0)\n",
      "INFO >> 5 - get universities data from 'Malaysia' (144)\n",
      "INFO >> 6 - get universities data from 'Myanmar' (5)\n",
      "INFO >> 7 - get universities data from 'Philippines' (118)\n",
      "INFO >> 8 - get universities data from 'Singapore' (18)\n",
      "INFO >> 9 - get universities data from 'Thailand' (67)\n",
      "INFO >> 10 - get universities data from 'Vietnam' (2)\n",
      "INFO >> Finished!\n",
      "INFO >> DATA IS EXPORTEED TO d:\\MyProject\\AI-Engineer\\ai-engineer-test\\1_PythonSkill\\southeast_asia_data.json\n"
     ]
    }
   ],
   "source": [
    "# GET DATA FROM API THEN SAVE TO JSON\n",
    "southeast_asia_data = pipeline_universities(southeast_asia_countries, filename=\"southeast_asia_data\")"
   ]
  },
  {
   "cell_type": "code",
   "execution_count": 4,
   "metadata": {},
   "outputs": [],
   "source": [
    "import pandas as pd"
   ]
  },
  {
   "cell_type": "code",
   "execution_count": 5,
   "metadata": {},
   "outputs": [],
   "source": [
    "df = pd.DataFrame(southeast_asia_data)"
   ]
  },
  {
   "cell_type": "code",
   "execution_count": 6,
   "metadata": {},
   "outputs": [
    {
     "data": {
      "text/html": [
       "<div>\n",
       "<style scoped>\n",
       "    .dataframe tbody tr th:only-of-type {\n",
       "        vertical-align: middle;\n",
       "    }\n",
       "\n",
       "    .dataframe tbody tr th {\n",
       "        vertical-align: top;\n",
       "    }\n",
       "\n",
       "    .dataframe thead th {\n",
       "        text-align: right;\n",
       "    }\n",
       "</style>\n",
       "<table border=\"1\" class=\"dataframe\">\n",
       "  <thead>\n",
       "    <tr style=\"text-align: right;\">\n",
       "      <th></th>\n",
       "      <th>state-province</th>\n",
       "      <th>alpha_two_code</th>\n",
       "      <th>name</th>\n",
       "      <th>domains</th>\n",
       "      <th>web_pages</th>\n",
       "      <th>country</th>\n",
       "    </tr>\n",
       "  </thead>\n",
       "  <tbody>\n",
       "    <tr>\n",
       "      <th>0</th>\n",
       "      <td>None</td>\n",
       "      <td>BN</td>\n",
       "      <td>Institut Teknologi Brunei</td>\n",
       "      <td>[itb.edu.bn]</td>\n",
       "      <td>[http://www.itb.edu.bn/]</td>\n",
       "      <td>Brunei Darussalam</td>\n",
       "    </tr>\n",
       "    <tr>\n",
       "      <th>1</th>\n",
       "      <td>None</td>\n",
       "      <td>BN</td>\n",
       "      <td>University of Brunei Darussalam</td>\n",
       "      <td>[ubd.edu.bn]</td>\n",
       "      <td>[http://www.ubd.edu.bn/]</td>\n",
       "      <td>Brunei Darussalam</td>\n",
       "    </tr>\n",
       "    <tr>\n",
       "      <th>2</th>\n",
       "      <td>None</td>\n",
       "      <td>BN</td>\n",
       "      <td>Universiti Islam Sultan Sharif Ali</td>\n",
       "      <td>[unissa.edu.bn]</td>\n",
       "      <td>[http://www.unissa.edu.bn/]</td>\n",
       "      <td>Brunei Darussalam</td>\n",
       "    </tr>\n",
       "    <tr>\n",
       "      <th>3</th>\n",
       "      <td>None</td>\n",
       "      <td>ID</td>\n",
       "      <td>Universitas Nusa Putra</td>\n",
       "      <td>[nusaputra.ac.id]</td>\n",
       "      <td>[https://nusaputra.ac.id]</td>\n",
       "      <td>Indonesia</td>\n",
       "    </tr>\n",
       "    <tr>\n",
       "      <th>4</th>\n",
       "      <td>None</td>\n",
       "      <td>ID</td>\n",
       "      <td>Akademi Farmasi Mitra Sehat Mandiri Sidoarjo</td>\n",
       "      <td>[akfarmitseda.ac.id]</td>\n",
       "      <td>[http://www.akfarmitseda.ac.id/]</td>\n",
       "      <td>Indonesia</td>\n",
       "    </tr>\n",
       "  </tbody>\n",
       "</table>\n",
       "</div>"
      ],
      "text/plain": [
       "  state-province alpha_two_code                                          name  \\\n",
       "0           None             BN                     Institut Teknologi Brunei   \n",
       "1           None             BN               University of Brunei Darussalam   \n",
       "2           None             BN            Universiti Islam Sultan Sharif Ali   \n",
       "3           None             ID                        Universitas Nusa Putra   \n",
       "4           None             ID  Akademi Farmasi Mitra Sehat Mandiri Sidoarjo   \n",
       "\n",
       "                domains                         web_pages            country  \n",
       "0          [itb.edu.bn]          [http://www.itb.edu.bn/]  Brunei Darussalam  \n",
       "1          [ubd.edu.bn]          [http://www.ubd.edu.bn/]  Brunei Darussalam  \n",
       "2       [unissa.edu.bn]       [http://www.unissa.edu.bn/]  Brunei Darussalam  \n",
       "3     [nusaputra.ac.id]         [https://nusaputra.ac.id]          Indonesia  \n",
       "4  [akfarmitseda.ac.id]  [http://www.akfarmitseda.ac.id/]          Indonesia  "
      ]
     },
     "execution_count": 6,
     "metadata": {},
     "output_type": "execute_result"
    }
   ],
   "source": [
    "df.head()"
   ]
  },
  {
   "cell_type": "code",
   "execution_count": 7,
   "metadata": {},
   "outputs": [
    {
     "name": "stdout",
     "output_type": "stream",
     "text": [
      "<class 'pandas.core.frame.DataFrame'>\n",
      "RangeIndex: 570 entries, 0 to 569\n",
      "Data columns (total 6 columns):\n",
      " #   Column          Non-Null Count  Dtype \n",
      "---  ------          --------------  ----- \n",
      " 0   state-province  178 non-null    object\n",
      " 1   alpha_two_code  570 non-null    object\n",
      " 2   name            570 non-null    object\n",
      " 3   domains         570 non-null    object\n",
      " 4   web_pages       570 non-null    object\n",
      " 5   country         570 non-null    object\n",
      "dtypes: object(6)\n",
      "memory usage: 26.8+ KB\n"
     ]
    }
   ],
   "source": [
    "df.info()"
   ]
  },
  {
   "cell_type": "code",
   "execution_count": 8,
   "metadata": {},
   "outputs": [
    {
     "data": {
      "text/plain": [
       "country\n",
       "Indonesia            192\n",
       "Malaysia             144\n",
       "Philippines          118\n",
       "Thailand              67\n",
       "Cambodia              21\n",
       "Singapore             18\n",
       "Myanmar                5\n",
       "Brunei Darussalam      3\n",
       "Vietnam                2\n",
       "Name: count, dtype: int64"
      ]
     },
     "execution_count": 8,
     "metadata": {},
     "output_type": "execute_result"
    }
   ],
   "source": [
    "# TOTAL UNIVERSITIES COUNTS PER COUNTRY NAME\n",
    "df['country'].value_counts()"
   ]
  },
  {
   "cell_type": "markdown",
   "metadata": {},
   "source": [
    "Indonesia has the most number of universities (total=192) and Vietnam is the lowest (total=2)."
   ]
  },
  {
   "cell_type": "markdown",
   "metadata": {},
   "source": []
  }
 ],
 "metadata": {
  "kernelspec": {
   "display_name": "aiengineer",
   "language": "python",
   "name": "python3"
  },
  "language_info": {
   "codemirror_mode": {
    "name": "ipython",
    "version": 3
   },
   "file_extension": ".py",
   "mimetype": "text/x-python",
   "name": "python",
   "nbconvert_exporter": "python",
   "pygments_lexer": "ipython3",
   "version": "3.10.16"
  }
 },
 "nbformat": 4,
 "nbformat_minor": 2
}
